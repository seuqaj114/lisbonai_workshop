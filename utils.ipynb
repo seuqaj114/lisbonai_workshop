{
 "cells": [
  {
   "cell_type": "code",
   "execution_count": 1,
   "metadata": {},
   "outputs": [],
   "source": [
    "import sys, os\n",
    "import numpy as np\n",
    "import tensorflow as tf\n",
    "import matplotlib.pyplot as plt\n",
    "np.set_printoptions(precision=4)"
   ]
  },
  {
   "cell_type": "code",
   "execution_count": 3,
   "metadata": {},
   "outputs": [],
   "source": [
    "# Script to create Iris dataset\n",
    "\n",
    "with open(\"/home/miguel/Downloads/iris.data.txt\", \"r\") as f:\n",
    "    lines = f.readlines()\n",
    "    lines.pop()\n",
    "    inputs = []\n",
    "    targets = []\n",
    "    for line in lines:\n",
    "        vector = line.strip().split(\",\")\n",
    "        vector[0] = float(vector[0])\n",
    "        vector[1] = float(vector[1])        \n",
    "        vector[2] = float(vector[2])        \n",
    "        vector[3] = float(vector[3])        \n",
    "        label = vector.pop()\n",
    "        if label == \"Iris-setosa\":\n",
    "            label = [1,0,0]\n",
    "        elif label == \"Iris-versicolor\":\n",
    "            label = [0,1,0]\n",
    "        else:\n",
    "            label = [0,0,1]\n",
    "        inputs.append(vector)\n",
    "        targets.append(label)\n",
    "        \n",
    "    inputs = np.array(inputs, dtype=np.float32)\n",
    "    targets = np.array(targets, dtype=np.float32)\n",
    "    \n",
    "#print(inputs, targets)\n",
    "np.savez_compressed(\"iris_dataset\", inputs=inputs, targets=targets)"
   ]
  }
 ],
 "metadata": {
  "kernelspec": {
   "display_name": "Python 3",
   "language": "python",
   "name": "python3"
  },
  "language_info": {
   "codemirror_mode": {
    "name": "ipython",
    "version": 3
   },
   "file_extension": ".py",
   "mimetype": "text/x-python",
   "name": "python",
   "nbconvert_exporter": "python",
   "pygments_lexer": "ipython3",
   "version": "3.5.2"
  }
 },
 "nbformat": 4,
 "nbformat_minor": 2
}
